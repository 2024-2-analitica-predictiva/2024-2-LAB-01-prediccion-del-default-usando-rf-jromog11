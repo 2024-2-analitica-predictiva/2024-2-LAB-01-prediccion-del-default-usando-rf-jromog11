{
 "cells": [
  {
   "cell_type": "code",
   "execution_count": 1,
   "metadata": {},
   "outputs": [],
   "source": [
    "# importacion de datasets\n",
    "\n",
    "import pandas as pd\n",
    "\n",
    "train = pd.read_csv('../files/input/train_data.csv.zip', compression='zip')\n",
    "test = pd.read_csv('../files/input/test_data.csv.zip', compression='zip')"
   ]
  },
  {
   "cell_type": "code",
   "execution_count": 2,
   "metadata": {},
   "outputs": [],
   "source": [
    "# Paso 1: Limpieza de datos\n",
    "\n",
    "def preprocess_data(df):\n",
    "    df = df.rename(columns={'default payment next month': 'default'})\n",
    "    df = df.drop('ID', axis=1)\n",
    "    df = df.dropna()\n",
    "    df = df[(df['EDUCATION'] != 0 ) & (df['MARRIAGE'] != 0)]\n",
    "    df['EDUCATION'] = df['EDUCATION'].apply(lambda x : 4 if x > 4 else x)\n",
    "\n",
    "    return df\n",
    "\n",
    "train = preprocess_data(train)\n",
    "test = preprocess_data(test)"
   ]
  },
  {
   "cell_type": "code",
   "execution_count": 3,
   "metadata": {},
   "outputs": [],
   "source": [
    "# Paso 2: Dividir el dataset en conjunto de entrenamiento y prueba\n",
    "\n",
    "x_train = train.drop('default', axis=1)\n",
    "y_train = train['default']\n",
    "x_test = test.drop('default', axis=1)\n",
    "y_test = test['default']"
   ]
  },
  {
   "cell_type": "code",
   "execution_count": 4,
   "metadata": {},
   "outputs": [
    {
     "name": "stdout",
     "output_type": "stream",
     "text": [
      "Train score: 0.9989551862154771\n",
      "Test score: 0.6731610120747966\n",
      "Params: {'memory': None, 'steps': [('transformer', ColumnTransformer(remainder='passthrough',\n",
      "                  transformers=[('onehot',\n",
      "                                 OneHotEncoder(handle_unknown='ignore'),\n",
      "                                 ['SEX', 'EDUCATION', 'MARRIAGE'])])), ('classifier', RandomForestClassifier())], 'transform_input': None, 'verbose': False, 'transformer': ColumnTransformer(remainder='passthrough',\n",
      "                  transformers=[('onehot',\n",
      "                                 OneHotEncoder(handle_unknown='ignore'),\n",
      "                                 ['SEX', 'EDUCATION', 'MARRIAGE'])]), 'classifier': RandomForestClassifier(), 'transformer__force_int_remainder_cols': True, 'transformer__n_jobs': None, 'transformer__remainder': 'passthrough', 'transformer__sparse_threshold': 0.3, 'transformer__transformer_weights': None, 'transformer__transformers': [('onehot', OneHotEncoder(handle_unknown='ignore'), ['SEX', 'EDUCATION', 'MARRIAGE'])], 'transformer__verbose': False, 'transformer__verbose_feature_names_out': True, 'transformer__onehot': OneHotEncoder(handle_unknown='ignore'), 'transformer__onehot__categories': 'auto', 'transformer__onehot__drop': None, 'transformer__onehot__dtype': <class 'numpy.float64'>, 'transformer__onehot__feature_name_combiner': 'concat', 'transformer__onehot__handle_unknown': 'ignore', 'transformer__onehot__max_categories': None, 'transformer__onehot__min_frequency': None, 'transformer__onehot__sparse_output': True, 'classifier__bootstrap': True, 'classifier__ccp_alpha': 0.0, 'classifier__class_weight': None, 'classifier__criterion': 'gini', 'classifier__max_depth': None, 'classifier__max_features': 'sqrt', 'classifier__max_leaf_nodes': None, 'classifier__max_samples': None, 'classifier__min_impurity_decrease': 0.0, 'classifier__min_samples_leaf': 1, 'classifier__min_samples_split': 2, 'classifier__min_weight_fraction_leaf': 0.0, 'classifier__monotonic_cst': None, 'classifier__n_estimators': 100, 'classifier__n_jobs': None, 'classifier__oob_score': False, 'classifier__random_state': None, 'classifier__verbose': 0, 'classifier__warm_start': False}\n"
     ]
    }
   ],
   "source": [
    "# Paso 3: Crear pipeline\n",
    "\n",
    "from sklearn.pipeline import Pipeline\n",
    "from sklearn.preprocessing import OneHotEncoder, StandardScaler\n",
    "from sklearn.compose import ColumnTransformer\n",
    "from sklearn.ensemble import RandomForestClassifier\n",
    "from sklearn.metrics import balanced_accuracy_score\n",
    "\n",
    "categorical_features = ['SEX', 'EDUCATION', 'MARRIAGE']\n",
    "continouos_features = train.columns.difference(categorical_features + ['default'])\n",
    "\n",
    "transformer = ColumnTransformer([\n",
    "    ('onehot', OneHotEncoder(handle_unknown='ignore'), categorical_features)\n",
    "], remainder='passthrough')\n",
    "\n",
    "pipeline = Pipeline([\n",
    "    ('transformer', transformer),\n",
    "    ('classifier', RandomForestClassifier())\n",
    "])\n",
    "\n",
    "pipeline.fit(x_train, y_train)\n",
    "print('Train score:', balanced_accuracy_score(y_train, pipeline.predict(x_train)))\n",
    "print('Test score:', balanced_accuracy_score(y_test, pipeline.predict(x_test)))\n",
    "print('Params:', pipeline.get_params())\n"
   ]
  },
  {
   "cell_type": "code",
   "execution_count": 5,
   "metadata": {},
   "outputs": [
    {
     "name": "stdout",
     "output_type": "stream",
     "text": [
      "Fitting 10 folds for each of 1 candidates, totalling 10 fits\n",
      "Best Score: 0.6559933413823907\n",
      "Best Params: {'classifier__bootstrap': True, 'classifier__criterion': 'gini', 'classifier__max_depth': None, 'classifier__max_features': 'sqrt', 'classifier__max_leaf_nodes': None, 'classifier__max_samples': None, 'classifier__min_samples_leaf': 2, 'classifier__min_samples_split': 2, 'classifier__n_estimators': 100}\n",
      "Test Score: 0.6767237305930701\n",
      "Train Score: 0.9267911885264608\n"
     ]
    }
   ],
   "source": [
    "# Paso 4: Optimizar hiperparametros\n",
    "\n",
    "from sklearn.model_selection import GridSearchCV\n",
    "\n",
    "param_grid = {\n",
    "    'classifier__n_estimators': [100, 200, 300],\n",
    "    'classifier__max_features': ['sqrt', 'log2', None],\n",
    "    'classifier__min_samples_split': [2, 5, 10],\n",
    "    'classifier__min_samples_leaf': [10, 20, 50],\n",
    "    'classifier__max_depth': [None],\n",
    "}\n",
    "\n",
    "param_grid_2 = {\n",
    "    'classifier__bootstrap': [True], \n",
    "    'classifier__ccp_alpha': [0.0], \n",
    "    'classifier__class_weight': [None], \n",
    "    'classifier__criterion': ['gini'], \n",
    "    'classifier__max_depth': [None], \n",
    "    'classifier__max_features': ['sqrt'], \n",
    "    'classifier__max_leaf_nodes': [None], \n",
    "    'classifier__max_samples': [None], \n",
    "    'classifier__min_impurity_decrease': [0.0], \n",
    "    'classifier__min_samples_leaf': [1], \n",
    "    'classifier__min_samples_split': [2], \n",
    "    'classifier__min_weight_fraction_leaf': [0.0], \n",
    "    'classifier__monotonic_cst': [None], \n",
    "    'classifier__n_estimators': [100], \n",
    "    'classifier__n_jobs': [None], \n",
    "    'classifier__oob_score': [False], \n",
    "    'classifier__random_state': [None], \n",
    "    'classifier__verbose': [0], \n",
    "    'classifier__warm_start': [False]\n",
    "}\n",
    "\n",
    "param_grid_3 = {\n",
    "    'transformer__onehot__handle_unknown': ['ignore'],\n",
    "    'transformer__onehot__sparse_output': [True],\n",
    "    'classifier__bootstrap': [True],\n",
    "    'classifier__ccp_alpha': [0.0],\n",
    "    'classifier__class_weight': [None],\n",
    "    'classifier__criterion': ['gini'],\n",
    "    'classifier__max_depth': [None],\n",
    "    'classifier__max_features': ['sqrt'],\n",
    "    'classifier__max_leaf_nodes': [None],\n",
    "    'classifier__max_samples': [None],\n",
    "    'classifier__min_impurity_decrease': [0.0],\n",
    "    'classifier__min_samples_leaf': [1],\n",
    "    'classifier__min_samples_split': [2],\n",
    "    'classifier__min_weight_fraction_leaf': [0.0],\n",
    "    'classifier__monotonic_cst': [None],\n",
    "    'classifier__n_estimators': [100],\n",
    "    'classifier__n_jobs': [None],\n",
    "    'classifier__oob_score': [False],\n",
    "    'classifier__random_state': [None],\n",
    "    'classifier__verbose': [0],\n",
    "    'classifier__warm_start': [False]\n",
    "}\n",
    "\n",
    "param_grid_4 = {\n",
    "    'classifier__bootstrap': [True], \n",
    "    'classifier__criterion': ['gini'], \n",
    "    'classifier__max_depth': [None], \n",
    "    'classifier__max_features': ['sqrt'], \n",
    "    'classifier__max_leaf_nodes': [None], \n",
    "    'classifier__max_samples': [None], \n",
    "    'classifier__min_samples_leaf': [2], \n",
    "    'classifier__min_samples_split': [2], \n",
    "    'classifier__n_estimators': [100], \n",
    "}\n",
    "\n",
    "\n",
    "grid_search = GridSearchCV(pipeline, param_grid_4, cv=10, n_jobs=-1, scoring='balanced_accuracy', verbose=2)\n",
    "grid_search.fit(x_train, y_train)\n",
    "print('Best Score:', grid_search.best_score_)\n",
    "print('Best Params:', grid_search.best_params_)\n",
    "print('Test Score:', grid_search.score(x_test, y_test))\n",
    "print('Train Score:', grid_search.score(x_train, y_train))"
   ]
  },
  {
   "cell_type": "code",
   "execution_count": 6,
   "metadata": {},
   "outputs": [],
   "source": [
    "# Paso 5: Guardar el modelo\n",
    "\n",
    "import os\n",
    "import gzip\n",
    "import pickle\n",
    "\n",
    "os.makedirs('../files/models', exist_ok=True)\n",
    "with gzip.open('../files/models/model.pkl.gz', 'wb') as f:\n",
    "    pickle.dump(grid_search, f)"
   ]
  },
  {
   "cell_type": "code",
   "execution_count": 7,
   "metadata": {},
   "outputs": [],
   "source": [
    "# Paso 6 y 7: Calculo de metricas y matriz de confusion\n",
    "\n",
    "def metrics_report(y_test, y_train):\n",
    "    from sklearn.metrics import confusion_matrix, balanced_accuracy_score, precision_score, recall_score, f1_score\n",
    "\n",
    "    y_test_predict = grid_search.predict(x_test)\n",
    "    y_train_predict = grid_search.predict(x_train)\n",
    "\n",
    "    cm_train = confusion_matrix(y_train, y_train_predict)\n",
    "    cm_test = confusion_matrix(y_test, y_test_predict)\n",
    "\n",
    "    metrics = [\n",
    "        {'type': 'metrics', 'dataset': 'train', 'precision': precision_score(y_train, y_train_predict), 'balanced_accuracy': balanced_accuracy_score(y_train, y_train_predict), 'recall': recall_score(y_train, y_train_predict), 'f1_score': f1_score(y_train, y_train_predict)},\n",
    "        {'type': 'metrics', 'dataset': 'test', 'precision': precision_score(y_test, y_test_predict), 'balanced_accuracy': balanced_accuracy_score(y_test, y_test_predict), 'recall': recall_score(y_test, y_test_predict), 'f1_score': f1_score(y_test, y_test_predict)},\n",
    "        {'type': 'cm_matrix', 'dataset': 'train', 'true_0': {\"predicted_0\": int(cm_train[0][0]), \"predicted_1\": int(cm_train[0][1])}, 'true_1': {\"predicted_0\": int(cm_train[1][0]), \"predicted_1\": int(cm_train[1][1])}},\n",
    "        {'type': 'cm_matrix', 'dataset': 'test', 'true_0': {\"predicted_0\": int(cm_test[0][0]), \"predicted_1\": int(cm_test[0][1])}, 'true_1': {\"predicted_0\": int(cm_test[1][0]), \"predicted_1\": int(cm_test[1][1])}}\n",
    "    ]\n",
    "\n",
    "    return metrics\n",
    "\n",
    "results = metrics_report(y_test, y_train)\n"
   ]
  },
  {
   "cell_type": "code",
   "execution_count": 8,
   "metadata": {},
   "outputs": [],
   "source": [
    "# Paso 8: Guardar metricas\n",
    "\n",
    "import json\n",
    "os.makedirs('../files/output', exist_ok=True)\n",
    "with open('../files/output/metrics.json', 'w') as f:\n",
    "    for metric in results:\n",
    "        f.write(json.dumps(metric) + '\\n')"
   ]
  }
 ],
 "metadata": {
  "kernelspec": {
   "display_name": ".venv",
   "language": "python",
   "name": "python3"
  },
  "language_info": {
   "codemirror_mode": {
    "name": "ipython",
    "version": 3
   },
   "file_extension": ".py",
   "mimetype": "text/x-python",
   "name": "python",
   "nbconvert_exporter": "python",
   "pygments_lexer": "ipython3",
   "version": "3.11.9"
  }
 },
 "nbformat": 4,
 "nbformat_minor": 2
}
